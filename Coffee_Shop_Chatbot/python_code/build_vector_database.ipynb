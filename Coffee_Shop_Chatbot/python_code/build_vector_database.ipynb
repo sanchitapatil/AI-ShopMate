{
 "cells": [
  {
   "cell_type": "code",
   "execution_count": 1,
   "metadata": {},
   "outputs": [
    {
     "data": {
      "text/plain": [
       "True"
      ]
     },
     "execution_count": 1,
     "metadata": {},
     "output_type": "execute_result"
    }
   ],
   "source": [
    "from pinecone import Pinecone, ServerlessSpec\n",
    "import os\n",
    "from openai import OpenAI\n",
    "import pandas as pd\n",
    "from time import time\n",
    "import dotenv\n",
    "dotenv.load_dotenv()"
   ]
  },
  {
   "cell_type": "code",
   "execution_count": 2,
   "metadata": {},
   "outputs": [],
   "source": [
    "token= os.getenv(\"RUNPOD_TOKEN\") \n",
    "open_ai_base_url = os.getenv(\"RUNPOD_EMBEDDING_URL\") \n",
    "model_name= os.getenv(\"MODEL_NAME\") \n",
    "pinecone_api_key = os.getenv(\"PINECONE_API_KEY\") "
   ]
  },
  {
   "cell_type": "code",
   "execution_count": 3,
   "metadata": {},
   "outputs": [],
   "source": [
    "pc = Pinecone(api_key=pinecone_api_key)\n",
    "\n",
    "client = OpenAI(\n",
    "  api_key=token, \n",
    "  base_url=open_ai_base_url\n",
    ")"
   ]
  },
  {
   "cell_type": "markdown",
   "metadata": {},
   "source": [
    "# Try out embeddings"
   ]
  },
  {
   "cell_type": "code",
   "execution_count": 4,
   "metadata": {},
   "outputs": [
    {
     "name": "stdout",
     "output_type": "stream",
     "text": [
      "[-0.055366937071084976, -0.056556638330221176, 0.08584163337945938, -0.06238313391804695, 0.01755574159324169, -0.01140131801366806, 0.052316416054964066, 0.05259096249938011, 0.028903676196932793, -0.022573847323656082, -0.013201124966144562, -0.04783215373754501, 0.029452770948410034, 0.031847428530454636, 0.056312598288059235, -0.008991407230496407, 0.012819809839129448, -0.05423824489116669, -0.10365666449069977, -0.019553832709789276, 0.02913246490061283, 0.05204186961054802, -0.02882741391658783, -0.034775927662849426, 0.001531932968646288, -0.00663869408890605, 0.019736863672733307, 0.03556906431913376, -0.008488072082400322, -0.07382258027791977, -0.0005252613918855786, -0.012873194180428982, 0.046581439673900604, -0.00035176306846551597, 0.05137075483798981, 0.0004532882012426853, 0.05960715934634209, -0.025029515847563744, -0.07791028171777725, -0.005586264654994011, 0.060491811484098434, -0.02512103132903576, -0.0016205887077376246, -0.016579575836658478, 0.022512836381793022, -0.042097173631191254, 0.03001711703836918, 0.04566628485918045, 0.05024206265807152, 0.0176014993339777, -0.0014775956515222788, 0.006062908563762903, -0.0161219984292984, 0.007725441828370094, 0.041151512414216995, 0.09468813985586166, 0.07827634364366531, -0.007412763312458992, 0.021917985752224922, 0.01618300750851631, 0.025288810953497887, 0.024800727143883705, -0.13715137541294098, 0.07272439450025558, 0.005738790612667799, -0.042341217398643494, 0.024663453921675682, -0.01599997654557228, -0.007580542005598545, 0.008838881738483906, 0.018303120508790016, -0.008518576622009277, -0.028156299144029617, 0.029162971302866936, 0.0030448001343756914, 0.02153667062520981, 0.04380546510219574, -0.026646291837096214, 0.04066343232989311, -0.05484834685921669, -0.011637733317911625, -0.0007154422346502542, 0.030123883858323097, 0.009304085746407509, -0.0013107702834531665, -0.03248803690075874, -0.006863669957965612, 0.06784356385469437, -0.04618487134575844, 0.03892463445663452, -0.021704450249671936, -0.009060043841600418, 0.03444036841392517, 0.052255406975746155, -0.03813149780035019, -0.03791796416044235, -0.004495703615248203, 0.03654522821307182, -0.021978996694087982, 0.3074924051761627, -0.06570819765329361, 0.028095288202166557, 0.08138787001371384, -0.04285980388522148, -0.007172535173594952, 0.0459713339805603, -0.00781695730984211, -0.009204943664371967, 0.003313627326861024, -0.008655850775539875, 0.013056225143373013, -0.031084798276424408, 0.017952309921383858, 0.003519537393003702, 0.039656758308410645, -0.015023810788989067, 0.010913235135376453, 0.02171970158815384, 0.10939164459705353, -0.05176732316613197, 0.015435631386935711, 0.009784542955458164, -0.07211428880691528, 0.014192543923854828, 0.06436596810817719, -0.05396369844675064, 0.08846507966518402, 0.10408373922109604, -0.0026005683466792107, 0.023855065926909447, 0.008305040188133717, 0.054177235811948776, -0.059424128383398056, -0.010127726010978222, -0.01886746659874916, 0.005468057002872229, -0.028125794604420662, -0.02983408421278, -0.025624368339776993, -0.040083833038806915, -0.013254509307444096, -0.09706754237413406, -0.01294945739209652, -0.11842118203639984, 0.019477570429444313, 0.012301221489906311, -0.012720667757093906, 0.011645359918475151, -0.013117236085236073, 0.01363582443445921, -0.02380930818617344, 0.028568118810653687, -0.04203616455197334, -0.024876989424228668, 0.010257373563945293, -0.03392178192734718, 0.030901767313480377, 0.037460386753082275, 0.01944706402719021, 0.025975177064538002, -0.019187770783901215, -0.03868059441447258, 0.013750218786299229, -0.04469011723995209, -0.05914958193898201, -0.13214851915836334, -0.0012850315542891622, 0.018287867307662964, 0.007755946833640337, 0.045452747493982315, 0.053506121039390564, 0.025227800011634827, -0.03636219725012779, 0.008777870796620846, 0.11469954997301102, -0.002615820849314332, -0.007698749657720327, 0.01569492556154728, -0.023412739858031273, -0.008289787918329239, 0.04450708627700806, -0.06399990618228912, -0.021109597757458687, -0.03492845222353935, 0.023351730778813362, -0.02173495478928089, 0.012873194180428982, 0.014596737921237946, -0.0033765442203730345, 0.03511148318648338, -0.01363582443445921, 0.03251854330301285, 0.018470898270606995, 0.006356521043926477, -0.04200565814971924, 0.012636778876185417, 0.03953474014997482, -0.056617651134729385, 0.014360322616994381, -0.012034301646053791, 0.04261576384305954, -0.0020076234359294176, -0.0016796925337985158, 0.03097802959382534, 0.06253565847873688, -0.00696662487462163, 0.030947525054216385, -0.010783587582409382, 0.03175591304898262, 0.018287867307662964, -0.02220778539776802, -0.036728259176015854, 0.10054513812065125, 0.023061931133270264, -0.012682536616921425, -0.0829741433262825, -0.027897004038095474, 0.04523921012878418, -0.0429513193666935, 0.04249374195933342, 0.009509995579719543, -0.005940887611359358, -0.09090549498796463, -0.2918737530708313, 0.06345081329345703, -0.007862715050578117, -0.03831452876329422, 0.014024765230715275, -0.05301803722977638, 0.06238313391804695, -0.003733073826879263, 0.08901417255401611, -0.007244985084980726, 0.012758799828588963, -0.07540885359048843, 0.00504479743540287, 0.0018274520989507437, 0.014528101310133934, 0.04636790230870247, -0.010249746963381767, -0.022634858265519142, 0.013567187823355198, -0.03669775649905205, 0.004316485952585936, -0.003105810610577464, 0.02147565968334675, -0.027729226276278496, 0.0009556707227602601, -0.014375574886798859, 0.1444726288318634, 0.1349550038576126, 0.025929419323801994, 0.0034470874816179276, 0.04984549432992935, -0.061803534626960754, -0.007733067963272333, -0.17241539061069489, 0.03617916628718376, 0.06991791725158691, -0.004857953172177076, -0.1008501872420311, -0.05640411376953125, -0.009647269733250141, -0.0265547763556242, 0.01241561584174633, 0.007984736002981663, -0.040144842118024826, 0.0022306926548480988, -0.10286353528499603, -0.04099898785352707, 0.05463481321930885, -0.06918579339981079, 0.011386065743863583, 0.024282138794660568, -0.038467057049274445, 0.025029515847563744, 0.047069523483514786, 0.029651053249835968, -0.08486546576023102, -0.014253554865717888, -0.029498528689146042, -0.022406069561839104, 0.09389500319957733, -0.015100074000656605, 0.0381925106048584, -0.013231630437076092, -0.010821719653904438, -0.04771013185381889, 0.05884452909231186, -0.005353662651032209, -0.013399409130215645, 0.09883684664964676, -0.0018550974782556295, -0.013063851743936539, -0.05759381502866745, -0.03175591304898262, -0.009128681384027004, 0.03511148318648338, 0.038039982318878174, 0.012697788886725903, 0.0006877969135530293, -0.021460408344864845, -0.03386077284812927, 0.045391738414764404, -0.02448042295873165, 0.0471305325627327, 0.00024058592680376023, -0.024388907477259636, 0.07797128707170486, 0.06232212111353874, -0.027500437572598457, 0.01718967966735363, -0.04853377118706703, -0.0026577655225992203, 0.018181098625063896, 0.008632971905171871, -0.09627441316843033, 0.009334591217339039, -0.03688078746199608, -0.2804037928581238, 0.06143747270107269, 0.004190651699900627, 0.004285980481654406, -0.046520430594682693, 0.05979019030928612, 0.029086707159876823, 0.029376506805419922, -0.07083307206630707, 0.0060285902582108974, -0.031725406646728516, 0.08071675896644592, 0.04749659448862076, 0.010638688690960407, -0.06729447096586227, 0.07644602656364441, 0.02585315704345703, -0.041212525218725204, 0.00853382982313633, -0.034287843853235245, 0.0035443229135125875, -0.0041487072594463825, 0.19352498650550842, -0.061803534626960754, 0.07492077350616455, 0.014337443746626377, -0.018165845423936844, -0.0006858903216198087, -0.02441941201686859, -0.018592918291687965, -0.012812184169888496, 0.01187414862215519, -0.01778453215956688, -0.060491811484098434, 0.023138193413615227, 0.012247837148606777, -0.07016196101903915, 0.020987577736377716, 0.011004750616848469, -0.030413683503866196, -0.06936882436275482, -0.015923714265227318, -0.07510380446910858, 0.017052406445145607, 0.05677017569541931, -0.02786649949848652, -0.019736863672733307, -0.023626277223229408, -0.004709240049123764, 0.008671103045344353, 0.009380348958075047, 0.0014356509782373905, -0.0015538586303591728, 0.031481366604566574, 0.01593896746635437, -0.013773097656667233, -0.02608194574713707, -0.005803614389151335, 0.024922747164964676, -0.05802088975906372, -0.008045746013522148, -0.046947501599788666, 0.03517249599099159, 0.04569678753614426, -0.015801694244146347]\n"
     ]
    }
   ],
   "source": [
    "output = client.embeddings.create(input = [\"helloo there\"],model=model_name)\n",
    "embedings = output.data[0].embedding\n",
    "print(embedings)"
   ]
  },
  {
   "cell_type": "code",
   "execution_count": 5,
   "metadata": {},
   "outputs": [
    {
     "data": {
      "text/plain": [
       "384"
      ]
     },
     "execution_count": 5,
     "metadata": {},
     "output_type": "execute_result"
    }
   ],
   "source": [
    "len(embedings)"
   ]
  },
  {
   "cell_type": "markdown",
   "metadata": {},
   "source": [
    "# Wrangle dataset"
   ]
  },
  {
   "cell_type": "code",
   "execution_count": 6,
   "metadata": {},
   "outputs": [],
   "source": [
    "df=pd.read_json('products/products.jsonl',lines=True)"
   ]
  },
  {
   "cell_type": "code",
   "execution_count": 7,
   "metadata": {},
   "outputs": [
    {
     "data": {
      "text/html": [
       "<div>\n",
       "<style scoped>\n",
       "    .dataframe tbody tr th:only-of-type {\n",
       "        vertical-align: middle;\n",
       "    }\n",
       "\n",
       "    .dataframe tbody tr th {\n",
       "        vertical-align: top;\n",
       "    }\n",
       "\n",
       "    .dataframe thead th {\n",
       "        text-align: right;\n",
       "    }\n",
       "</style>\n",
       "<table border=\"1\" class=\"dataframe\">\n",
       "  <thead>\n",
       "    <tr style=\"text-align: right;\">\n",
       "      <th></th>\n",
       "      <th>name</th>\n",
       "      <th>category</th>\n",
       "      <th>description</th>\n",
       "      <th>ingredients</th>\n",
       "      <th>price</th>\n",
       "      <th>rating</th>\n",
       "      <th>image_path</th>\n",
       "    </tr>\n",
       "  </thead>\n",
       "  <tbody>\n",
       "    <tr>\n",
       "      <th>0</th>\n",
       "      <td>Cappuccino</td>\n",
       "      <td>Coffee</td>\n",
       "      <td>A rich and creamy cappuccino made with freshly...</td>\n",
       "      <td>[Espresso, Steamed Milk, Milk Foam]</td>\n",
       "      <td>4.50</td>\n",
       "      <td>4.7</td>\n",
       "      <td>cappuccino.jpg</td>\n",
       "    </tr>\n",
       "    <tr>\n",
       "      <th>1</th>\n",
       "      <td>Jumbo Savory Scone</td>\n",
       "      <td>Bakery</td>\n",
       "      <td>Deliciously flaky and buttery, this jumbo savo...</td>\n",
       "      <td>[Flour, Butter, Cheese, Herbs, Baking Powder, ...</td>\n",
       "      <td>3.25</td>\n",
       "      <td>4.3</td>\n",
       "      <td>SavoryScone.webp</td>\n",
       "    </tr>\n",
       "  </tbody>\n",
       "</table>\n",
       "</div>"
      ],
      "text/plain": [
       "                 name category  \\\n",
       "0          Cappuccino   Coffee   \n",
       "1  Jumbo Savory Scone   Bakery   \n",
       "\n",
       "                                         description  \\\n",
       "0  A rich and creamy cappuccino made with freshly...   \n",
       "1  Deliciously flaky and buttery, this jumbo savo...   \n",
       "\n",
       "                                         ingredients  price  rating  \\\n",
       "0                [Espresso, Steamed Milk, Milk Foam]   4.50     4.7   \n",
       "1  [Flour, Butter, Cheese, Herbs, Baking Powder, ...   3.25     4.3   \n",
       "\n",
       "         image_path  \n",
       "0    cappuccino.jpg  \n",
       "1  SavoryScone.webp  "
      ]
     },
     "execution_count": 7,
     "metadata": {},
     "output_type": "execute_result"
    }
   ],
   "source": [
    "df.head(2)"
   ]
  },
  {
   "cell_type": "code",
   "execution_count": 8,
   "metadata": {},
   "outputs": [],
   "source": [
    "df['text'] =  df['name']+\" : \"+df['description'] + \\\n",
    "                \" -- Ingredients: \" + df['ingredients'].astype(str) + \\\n",
    "                \" -- Price: \" + df['price'].astype(str) + \\\n",
    "                \" -- rating: \" + df['rating'].astype(str) "
   ]
  },
  {
   "cell_type": "code",
   "execution_count": 9,
   "metadata": {},
   "outputs": [
    {
     "data": {
      "text/plain": [
       "0    Cappuccino : A rich and creamy cappuccino made...\n",
       "1    Jumbo Savory Scone : Deliciously flaky and but...\n",
       "2    Latte : Smooth and creamy, our latte combines ...\n",
       "3    Chocolate Chip Biscotti : Crunchy and delightf...\n",
       "4    Espresso shot : A bold shot of rich espresso, ...\n",
       "Name: text, dtype: object"
      ]
     },
     "execution_count": 9,
     "metadata": {},
     "output_type": "execute_result"
    }
   ],
   "source": [
    "df['text'].head()"
   ]
  },
  {
   "cell_type": "code",
   "execution_count": 10,
   "metadata": {},
   "outputs": [],
   "source": [
    "texts = df['text'].tolist()"
   ]
  },
  {
   "cell_type": "code",
   "execution_count": 11,
   "metadata": {},
   "outputs": [],
   "source": [
    "with open('products/Merry\\'s_way_about_us.txt') as f:\n",
    "    Merry_way_about_section = f.read()\n",
    "    \n",
    "Merry_way_about_section = \"Coffee shop Merry's Way about section: \" + Merry_way_about_section\n",
    "texts.append(Merry_way_about_section)"
   ]
  },
  {
   "cell_type": "code",
   "execution_count": 12,
   "metadata": {},
   "outputs": [],
   "source": [
    "with open('products/menu_items_text.txt') as f:\n",
    "    menue_items_text = f.read()\n",
    "    \n",
    "menue_items_text = \"Menu Items: \" + menue_items_text\n",
    "texts.append(menue_items_text)"
   ]
  },
  {
   "cell_type": "markdown",
   "metadata": {},
   "source": [
    "# Generate Embeddings"
   ]
  },
  {
   "cell_type": "code",
   "execution_count": 13,
   "metadata": {},
   "outputs": [],
   "source": [
    "output = client.embeddings.create(input = texts,model=model_name)"
   ]
  },
  {
   "cell_type": "code",
   "execution_count": 14,
   "metadata": {},
   "outputs": [],
   "source": [
    "embeddings = output.data"
   ]
  },
  {
   "cell_type": "markdown",
   "metadata": {},
   "source": [
    "# Push data to database"
   ]
  },
  {
   "cell_type": "code",
   "execution_count": 15,
   "metadata": {},
   "outputs": [],
   "source": [
    "index_name = \"coffeeshop\"\n",
    "\n",
    "pc.create_index(\n",
    "    name=index_name,\n",
    "    dimension=384, \n",
    "    metric=\"cosine\", \n",
    "    spec=ServerlessSpec(\n",
    "        cloud=\"aws\",\n",
    "        region=\"us-east-1\"\n",
    "    ) \n",
    ")"
   ]
  },
  {
   "cell_type": "code",
   "execution_count": 16,
   "metadata": {},
   "outputs": [
    {
     "data": {
      "text/plain": [
       "{'upserted_count': 20}"
      ]
     },
     "execution_count": 16,
     "metadata": {},
     "output_type": "execute_result"
    }
   ],
   "source": [
    "# Wait for the index to be ready\n",
    "while not pc.describe_index(index_name).status['ready']:\n",
    "    time.sleep(1)\n",
    "\n",
    "index = pc.Index(index_name)\n",
    "\n",
    "vectors = []\n",
    "for text, e in zip(texts, embeddings):\n",
    "    entry_id = text.split(\":\")[0].strip()\n",
    "    vectors.append({\n",
    "        \"id\": entry_id,\n",
    "        \"values\": e.embedding,\n",
    "        \"metadata\": {'text': text}\n",
    "    })\n",
    "    \n",
    "index.upsert(\n",
    "    vectors=vectors,\n",
    "    namespace=\"ns1\"\n",
    ")"
   ]
  },
  {
   "cell_type": "markdown",
   "metadata": {},
   "source": [
    "# Get Closest documents"
   ]
  },
  {
   "cell_type": "code",
   "execution_count": 20,
   "metadata": {},
   "outputs": [],
   "source": [
    "output = client.embeddings.create(input = [\"Is Cappuccino lactose-free?\"],model=model_name)\n",
    "embedding = output.data[0].embedding"
   ]
  },
  {
   "cell_type": "code",
   "execution_count": 21,
   "metadata": {},
   "outputs": [],
   "source": [
    "results = index.query(\n",
    "    namespace=\"ns1\",\n",
    "    vector=embedding,\n",
    "    top_k=3,\n",
    "    include_values=False,\n",
    "    include_metadata=True\n",
    ")\n"
   ]
  },
  {
   "cell_type": "code",
   "execution_count": 22,
   "metadata": {},
   "outputs": [
    {
     "data": {
      "text/plain": [
       "{'matches': [{'id': 'Cappuccino',\n",
       "              'metadata': {'text': 'Cappuccino : A rich and creamy cappuccino '\n",
       "                                   'made with freshly brewed espresso, steamed '\n",
       "                                   'milk, and a frothy milk cap. This '\n",
       "                                   'delightful drink offers a perfect balance '\n",
       "                                   'of bold coffee flavor and smooth milk, '\n",
       "                                   'making it an ideal companion for relaxing '\n",
       "                                   'mornings or lively conversations. -- '\n",
       "                                   \"Ingredients: ['Espresso', 'Steamed Milk', \"\n",
       "                                   \"'Milk Foam'] -- Price: 4.5 -- rating: 4.7\"},\n",
       "              'score': 0.734829128,\n",
       "              'values': []},\n",
       "             {'id': 'Sugar Free Vanilla syrup',\n",
       "              'metadata': {'text': 'Sugar Free Vanilla syrup : Enjoy the sweet '\n",
       "                                   'flavor of vanilla without the sugar, '\n",
       "                                   'making it perfect for your coffee or '\n",
       "                                   'dessert. This syrup offers a guilt-free '\n",
       "                                   'way to enhance your beverages, ensuring '\n",
       "                                   'you never miss out on flavor. -- '\n",
       "                                   \"Ingredients: ['Water', 'Natural Flavors', \"\n",
       "                                   \"'Sucralose'] -- Price: 1.5 -- rating: 4.4\"},\n",
       "              'score': 0.62536031,\n",
       "              'values': []},\n",
       "             {'id': 'Menu Items',\n",
       "              'metadata': {'text': 'Menu Items: Menu Items\\n'\n",
       "                                   '\\n'\n",
       "                                   'Cappuccino - $4.50\\n'\n",
       "                                   'Jumbo Savory Scone - $3.25\\n'\n",
       "                                   'Latte - $4.75\\n'\n",
       "                                   'Chocolate Chip Biscotti - $2.50\\n'\n",
       "                                   'Espresso shot - $2.00\\n'\n",
       "                                   'Hazelnut Biscotti - $2.75\\n'\n",
       "                                   'Chocolate Croissant - $3.75\\n'\n",
       "                                   'Dark chocolate (Drinking Chocolate) - '\n",
       "                                   '$5.00\\n'\n",
       "                                   'Cranberry Scone - $3.50\\n'\n",
       "                                   'Croissant - $3.25\\n'\n",
       "                                   'Almond Croissant - $4.00\\n'\n",
       "                                   'Ginger Biscotti - $2.50\\n'\n",
       "                                   'Oatmeal Scone - $3.25\\n'\n",
       "                                   'Ginger Scone - $3.50\\n'\n",
       "                                   'Chocolate syrup - $1.50\\n'\n",
       "                                   'Hazelnut syrup - $1.50\\n'\n",
       "                                   'Carmel syrup - $1.50\\n'\n",
       "                                   'Sugar Free Vanilla syrup - $1.50\\n'\n",
       "                                   'Dark chocolate (Packaged Chocolate) - '\n",
       "                                   '$3.00'},\n",
       "              'score': 0.612039387,\n",
       "              'values': []}],\n",
       " 'namespace': 'ns1',\n",
       " 'usage': {'read_units': 6}}"
      ]
     },
     "execution_count": 22,
     "metadata": {},
     "output_type": "execute_result"
    }
   ],
   "source": [
    "results"
   ]
  },
  {
   "cell_type": "code",
   "execution_count": null,
   "metadata": {},
   "outputs": [],
   "source": []
  }
 ],
 "metadata": {
  "kernelspec": {
   "display_name": "base",
   "language": "python",
   "name": "python3"
  },
  "language_info": {
   "codemirror_mode": {
    "name": "ipython",
    "version": 3
   },
   "file_extension": ".py",
   "mimetype": "text/x-python",
   "name": "python",
   "nbconvert_exporter": "python",
   "pygments_lexer": "ipython3",
   "version": "3.11.7"
  }
 },
 "nbformat": 4,
 "nbformat_minor": 2
}
