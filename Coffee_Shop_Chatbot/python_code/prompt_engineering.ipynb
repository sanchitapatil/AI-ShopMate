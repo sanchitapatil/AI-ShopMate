{
 "cells": [
  {
   "cell_type": "code",
   "execution_count": 5,
   "metadata": {},
   "outputs": [
    {
     "data": {
      "text/plain": [
       "True"
      ]
     },
     "execution_count": 5,
     "metadata": {},
     "output_type": "execute_result"
    }
   ],
   "source": [
    "from openai import OpenAI\n",
    "from dotenv import load_dotenv\n",
    "import os\n",
    "load_dotenv()"
   ]
  },
  {
   "cell_type": "code",
   "execution_count": 6,
   "metadata": {},
   "outputs": [],
   "source": [
    "def get_chatbot_response(client,modelname,messages,temperature=0):\n",
    "    input_messages=[]\n",
    "    for messsage in messages:\n",
    "        input_messages.append({\"role\":messsage[\"role\"],\"content\":messsage[\"content\"]})\n",
    "    response = client.chat.completions.create(\n",
    "        model=modelname,\n",
    "        messages=input_messages,\n",
    "        temperature=temperature,\n",
    "        top_p=0.8,\n",
    "        max_tokens=2000\n",
    "    ).choices[0].message.content\n",
    "\n",
    "    return response"
   ]
  },
  {
   "cell_type": "code",
   "execution_count": 7,
   "metadata": {},
   "outputs": [],
   "source": [
    "client = OpenAI(\n",
    "    api_key=os.getenv('RUNPOD_TOKEN'),\n",
    "    base_url=os.getenv('RUNPOD_CHATBOT_URL'),\n",
    ")\n",
    "modelname = os.getenv('MODEL_NAME')"
   ]
  },
  {
   "cell_type": "code",
   "execution_count": 7,
   "metadata": {},
   "outputs": [],
   "source": [
    "messages=[{'role':'system', 'content':'What is the capital of India?'}]\n",
    "response = get_chatbot_response(client,modelname,messages)"
   ]
  },
  {
   "cell_type": "code",
   "execution_count": null,
   "metadata": {},
   "outputs": [],
   "source": [
    "response"
   ]
  },
  {
   "cell_type": "code",
   "execution_count": 2,
   "metadata": {},
   "outputs": [],
   "source": []
  },
  {
   "cell_type": "code",
   "execution_count": 3,
   "metadata": {},
   "outputs": [],
   "source": [
    "response = client.chat.completions.create(\n",
    "    model=modelname,\n",
    "    messages=[\n",
    "        {'role':'user', 'content':'What is the capital of India?'}\n",
    "    ],\n",
    "    temperature=0.0,\n",
    "    top_p=0.8,\n",
    "    max_tokens=2000\n",
    ")"
   ]
  },
  {
   "cell_type": "code",
   "execution_count": null,
   "metadata": {},
   "outputs": [],
   "source": [
    "response"
   ]
  },
  {
   "cell_type": "code",
   "execution_count": null,
   "metadata": {},
   "outputs": [],
   "source": [
    "response.choices[0].message.content"
   ]
  },
  {
   "cell_type": "code",
   "execution_count": 8,
   "metadata": {},
   "outputs": [],
   "source": [
    "samsung_s23 = \"\"\"\n",
    "The Samsung Galaxy S23 brings some incremental but notable upgrades to its predecessor, the Galaxy S22. It features the Snapdragon 8 Gen 2 processor, a powerful chip optimized for the S23 series, delivering enhanced performance, especially for gaming and multitasking. This chip ensures top-tier speed and efficiency across all models, from the base S23 to the larger S23+ and S23 Ultra​\n",
    "STUFF\n",
    "\n",
    "TECHRADAR\n",
    ".\n",
    "\n",
    "In terms of design, the S23's camera module has been streamlined by removing the raised metal contour around the cameras, creating a cleaner, sleeker look. It also sports the same 6.1-inch 120Hz AMOLED display, protected by tougher Gorilla Glass Victus 2, making it more resistant to scratches and drops​\n",
    "TECHRADAR\n",
    ".\n",
    "\n",
    "The S23 Ultra stands out with its 200MP main camera, offering impressive photo clarity, especially in low-light conditions. The selfie camera across the series has been updated to a 12MP sensor, resulting in sharper selfies. The Ultra model also includes productivity tools such as the S-Pen, which remains an essential feature for note-taking and creative tasks​\n",
    "STUFF\n",
    "\n",
    "TECHRADAR\n",
    ".\n",
    "\n",
    "Battery life is solid, with the S23 Ultra featuring a 5000mAh battery that lasts comfortably through a day of heavy use. However, charging speeds still lag behind some competitors, with 45W wired charging, which is slower than other brands offering up to 125W charging​\n",
    "STUFF\n",
    ".\n",
    "\n",
    "Overall, the Galaxy S23 series enhances performance, durability, and camera quality, making it a strong contender for users seeking a high-performance flagship.\n",
    "\"\"\""
   ]
  },
  {
   "cell_type": "code",
   "execution_count": 9,
   "metadata": {},
   "outputs": [],
   "source": [
    "iphone_16 = \"\"\"\n",
    "The iPhone 16 introduces several exciting updates, making it one of Apple's most advanced smartphones to date. It features a larger 6.1-inch display for the base model and a 6.7-inch screen for the iPhone 16 Plus, with thinner bezels and a more durable Ceramic Shield. The iPhone 16 Pro and Pro Max boast even larger displays, measuring 6.3 and 6.9 inches respectively, offering the thinnest bezels seen on any Apple product so far.\n",
    "\n",
    "Powered by the new A18 chip (A18 Pro for the Pro models), these phones deliver significant performance improvements, with enhanced neural engine capabilities, faster GPU for gaming, and machine learning tasks. The camera systems are also upgraded, with the base iPhone 16 sporting a dual-camera setup with a 48MP main sensor. The Pro models offer a 48MP Ultra Wide and 5x telephoto camera, enhanced by Apple’s \"Camera Control\" button for more flexible photography options.\n",
    "\n",
    "Apple also introduced advanced audio features like \"Audio Mix,\" which uses machine learning to separate background sounds from speech, allowing for more refined audio capture during video recording. Battery life has been extended, especially in the iPhone 16 Pro Max, which is claimed to have the longest-lasting battery of any iPhone \n",
    "9TO5MAC\n",
    "\n",
    "APPLEMAGAZINE\n",
    ".\n",
    "\n",
    "Additionally, Apple has switched to USB-C for faster charging and data transfer, and the Pro models now support up to 2x faster video encoding. The starting prices remain consistent with previous generations, with the iPhone 16 starting at $799, while the Pro models start at $999\n",
    "\"\"\""
   ]
  },
  {
   "cell_type": "code",
   "execution_count": 10,
   "metadata": {},
   "outputs": [],
   "source": [
    "data = [iphone_16,samsung_s23]"
   ]
  },
  {
   "cell_type": "code",
   "execution_count": 11,
   "metadata": {},
   "outputs": [],
   "source": [
    "user_prompt = [\"What are the new features in iPhone 16?\"]"
   ]
  },
  {
   "cell_type": "code",
   "execution_count": 12,
   "metadata": {},
   "outputs": [],
   "source": [
    "embedding_client = OpenAI(\n",
    "    api_key=os.getenv(\"RUNPOD_TOKEN\"), \n",
    "    base_url=os.getenv(\"RUNPOD_EMBEDDING_URL\")\n",
    "    )"
   ]
  },
  {
   "cell_type": "code",
   "execution_count": 13,
   "metadata": {},
   "outputs": [],
   "source": [
    "output = embedding_client.embeddings.create(input=user_prompt, model=\"BAAI/bge-small-en-v1.5\")"
   ]
  },
  {
   "cell_type": "code",
   "execution_count": 14,
   "metadata": {},
   "outputs": [
    {
     "data": {
      "text/plain": [
       "CreateEmbeddingResponse(data=[Embedding(embedding=[-0.051105327904224396, -0.0216144397854805, 0.06392744928598404, -0.0011343383230268955, -0.04655652493238449, -0.020744366571307182, 0.025048937648534775, 0.020316962152719498, -0.014653856866061687, 0.023140883073210716, 0.03648199886083603, 0.03568824753165245, -0.07760438323020935, 0.002276308834552765, 0.09915776550769806, 0.02973511815071106, 0.11820778250694275, -0.09158660471439362, -0.0824890062212944, 0.017844123765826225, -0.004674733150750399, -0.011631499044597149, -0.04472479224205017, -0.013905899599194527, 0.024468889459967613, 0.04408368840813637, -0.004071787931025028, -0.014050912111997604, -0.0037340621929615736, -0.1520337611436844, 0.02691119723021984, -0.0006134394789114594, 0.011188830249011517, 0.021522853523492813, -0.02271347865462303, -0.03980964422225952, -0.012532101012766361, 0.05379186570644379, -0.035718776285648346, 0.06844572722911835, 0.02965879626572132, 0.09219718724489212, -0.08694621920585632, -0.010715632699429989, 0.016287151724100113, -0.014119601808488369, 0.03913801163434982, -0.023476701229810715, 0.015966597944498062, -0.04249618574976921, 0.06044716015458107, -0.010166113264858723, 0.011204094626009464, -0.05745533108711243, 0.033429112285375595, -0.012577894143760204, -0.007441411726176739, 0.05440244451165199, 0.037092577666044235, 0.05324234813451767, 0.08303852379322052, -0.015027835965156555, -0.1394558697938919, 0.08664093166589737, 0.005850094370543957, 0.025232110172510147, -0.04054233804345131, -0.09592171013355255, 0.030162522569298744, -0.0439005121588707, 0.0009025096660479903, 0.03568824753165245, 0.03831373155117035, 0.06429380178451538, -0.026743289083242416, -0.021629704162478447, 0.035535603761672974, 0.0320858396589756, -0.051166385412216187, 0.058829132467508316, 0.07229236513376236, 0.019431624561548233, 0.017004579305648804, 0.022148694843053818, 0.030986802652478218, -0.042129840701818466, -0.026224298402667046, -0.018546288833022118, -0.010280597023665905, -0.10294334590435028, -0.003419233253225684, -0.042801473289728165, 0.036237768828868866, 0.04203825443983078, -0.1067289263010025, 0.04735027626156807, 0.027018049731850624, -0.061973605304956436, -0.03489449620246887, 0.3026021420955658, -0.010479033924639225, 0.04078656807541847, 0.04362575337290764, -0.04081709682941437, 0.042526714503765106, -0.06716351211071014, -0.022347131744027138, -0.06789620220661163, -0.03681781515479088, 0.057913266122341156, -0.02225554548203945, -0.042465656995773315, 0.0445110909640789, 0.0170351080596447, -0.016806142404675484, -0.03803897276520729, 0.018485229462385178, 0.06453803181648254, 0.05840172618627548, 0.046190179884433746, 0.013081620447337627, -0.008998383767902851, -0.009784502908587456, 0.014157762750983238, 0.006723983213305473, -0.012638951651751995, 0.016653498634696007, 0.02265242114663124, -0.03458920866250992, 0.031872138381004333, 0.02738439477980137, -0.009509743191301823, -0.05983658507466316, 0.04164137691259384, 0.050067346543073654, -0.03175002336502075, 0.00995241105556488, -0.022942444309592247, 0.010730897076427937, -0.002056882483884692, -0.07522313296794891, -0.02443835884332657, 0.1257789433002472, -0.06991110742092133, 0.03091048076748848, 0.07290294021368027, -0.023537758737802505, 0.043656282126903534, 0.02251504175364971, 0.029521416872739792, -0.028910839930176735, 0.07064380496740341, 0.04408368840813637, 0.006620948668569326, 0.012219179421663284, 0.014226453378796577, -0.030238844454288483, -0.018088355660438538, -0.023262998089194298, 0.07607794553041458, -0.004167190752923489, 0.0163787379860878, -0.035718776285648346, -0.014585167169570923, 0.004346547648310661, -0.1578953117132187, 0.00016516595496796072, 0.040908683091402054, -0.08047410100698471, -0.005934048909693956, -0.026010597124695778, -0.011913890950381756, 0.02179761230945587, -0.029811440035700798, 0.10031786561012268, -0.002491918858140707, -0.02042381279170513, 0.09109814465045929, -0.006723983213305473, -0.0011724993819370866, -0.02527790330350399, -0.059042833745479584, -0.11320104449987411, 0.028697136789560318, 0.05840172618627548, -0.008029093034565449, 0.03660411387681961, -0.012677112594246864, 0.09012122452259064, -0.022545570507645607, 0.022240281105041504, 0.029948821291327477, -0.06215677782893181, 0.03962647169828415, -0.037825267761945724, -0.012455778196454048, -0.0007264916785061359, 0.04301517829298973, -0.013509024865925312, -0.05925653502345085, 0.016027655452489853, -0.005186091642826796, -0.0010618321830406785, 0.025369489565491676, 0.07436832785606384, -0.03764209523797035, -0.0013356379931792617, -0.054646674543619156, 0.04591541737318039, 0.0001243812876055017, 0.007742884568870068, 0.023553023114800453, 0.1211996078491211, -0.011089611798524857, 0.002877346007153392, -0.0687510147690773, -0.020286433398723602, 0.03825267404317856, -0.04838825762271881, -0.04026757925748825, 0.015577355399727821, 0.06175990402698517, 0.022148694843053818, -0.24899345636367798, 0.026010597124695778, -0.006594235543161631, -0.07406303286552429, -0.03233007341623306, -0.05318129062652588, -0.00419008731842041, -0.047106046229600906, 0.06801831722259521, 0.03791685402393341, 0.0033906125463545322, -0.014898087829351425, 0.05547095462679863, 0.036054596304893494, 0.06954476237297058, 0.02469785511493683, 0.01123462338000536, -0.05855436995625496, 0.02108018472790718, 0.017599893733859062, -0.0392906554043293, 0.039321184158325195, 0.044297389686107635, -0.004262593574821949, -0.017111431807279587, -0.08297746628522873, 0.050586335361003876, -0.03596300631761551, -0.005086872726678848, 0.014951514080166817, 0.02901769056916237, 0.0628894716501236, -0.04209931194782257, -0.08010775595903397, -0.0008948774775490165, 0.03556613251566887, 0.03452815115451813, 0.03904642537236214, -0.045610129833221436, -0.08816737681627274, 0.008494657464325428, 0.05476878955960274, 0.05318129062652588, -0.07479573041200638, -0.00345357833430171, 0.01592080481350422, -0.010189009830355644, 0.036237768828868866, -0.03944329917430878, -0.03281853348016739, 0.06295052915811539, -0.012501572258770466, 0.06594235450029373, 0.02063751593232155, 0.060477688908576965, -0.028132352977991104, -0.06108826771378517, 0.019355302676558495, -1.6456968296552077e-05, -0.022148694843053818, -0.04673969745635986, -0.00561731169000268, -0.05974499508738518, -0.09708180278539658, 0.01715722493827343, -0.0031158525962382555, -0.04860195890069008, -0.11906258761882782, -0.069422647356987, -0.10727844387292862, -0.011066715233027935, 0.008433599956333637, -0.03562719002366066, 0.03568824753165245, 0.022576099261641502, -0.037031516432762146, 0.08438179641962051, 0.00312730111181736, 0.042923588305711746, -0.040633924305438995, -0.011417796835303307, 0.10953757911920547, 0.029903028160333633, -0.019828500226140022, 0.0008529002661816776, 0.05525725334882736, 0.07369668781757355, -0.027811799198389053, 0.01482939813286066, -0.01339454110711813, -0.03168896585702896, -0.043717339634895325, 0.03358175605535507, -0.053150761872529984, 0.06972793489694595, 0.011952051892876625, -0.19147706031799316, -0.004266409669071436, -0.00838017463684082, 0.0002735672751441598, -0.041030801832675934, -0.024453625082969666, 0.01729460433125496, -0.02573583647608757, -0.04753344878554344, 0.01683667115867138, -0.03968752920627594, -0.04264882951974869, -0.007422331254929304, -0.04118344560265541, -0.011791775934398174, 0.0301167294383049, 0.0825500637292862, 0.033368054777383804, 0.021858669817447662, 0.006117222364991903, 0.0059302328154444695, -0.005044895689934492, 0.10074526816606522, -0.0838322713971138, 0.0025796894915401936, 0.0380084402859211, 0.01509652566164732, 0.00027046669856645167, -0.0006120084435679018, 0.035260844975709915, 0.033887043595314026, 0.013707462698221207, 0.062370479106903076, 0.04106133058667183, -0.030223580077290535, 0.007868816144764423, -0.018576817587018013, -0.03745892271399498, -0.03587142005562782, 0.042801473289728165, -0.054524559527635574, 0.0005409333971329033, -0.13994432985782623, 0.023797253146767616, 0.05507408082485199, -0.04402263090014458, -0.042404599487781525, 0.05376133695244789, -0.014417258091270924, -0.007529182359576225, -0.01839364320039749, -0.044633205980062485, -0.028773458674550056, 0.037428393959999084, 0.055043552070856094, 0.008944958448410034, -0.006632396951317787, -0.028529228642582893, 0.035535603761672974, 0.04603753611445427, 0.049548353999853134, -0.00032913938048295677, -0.042862530797719955, 0.013180838897824287, -0.025583192706108093], index=0, object='embedding')], model='BAAI/bge-small-en-v1.5', object='list', usage=Usage(prompt_tokens=9, total_tokens=9))"
      ]
     },
     "execution_count": 14,
     "metadata": {},
     "output_type": "execute_result"
    }
   ],
   "source": [
    "output"
   ]
  }
 ],
 "metadata": {
  "kernelspec": {
   "display_name": "base",
   "language": "python",
   "name": "python3"
  },
  "language_info": {
   "codemirror_mode": {
    "name": "ipython",
    "version": 3
   },
   "file_extension": ".py",
   "mimetype": "text/x-python",
   "name": "python",
   "nbconvert_exporter": "python",
   "pygments_lexer": "ipython3",
   "version": "3.11.7"
  }
 },
 "nbformat": 4,
 "nbformat_minor": 2
}
